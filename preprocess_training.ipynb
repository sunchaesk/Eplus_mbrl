{
 "cells": [
  {
   "cell_type": "markdown",
   "id": "d49eab85",
   "metadata": {},
   "source": [
    "# For preprocessing training_data.pt\n",
    "Jupyter notebook seemed easier to visualize the preprocessing"
   ]
  },
  {
   "cell_type": "code",
   "execution_count": 19,
   "id": "015056f5",
   "metadata": {},
   "outputs": [],
   "source": [
    "import sys\n",
    "import os\n",
    "import copy\n",
    "\n",
    "import numpy as np\n",
    "import pandas as pd\n",
    "\n",
    "import pickle\n",
    "\n",
    "from buffer import Buffer"
   ]
  },
  {
   "cell_type": "code",
   "execution_count": 20,
   "id": "45af7f0e",
   "metadata": {},
   "outputs": [],
   "source": [
    "pf = open('training_data.pt', 'rb')\n",
    "buf = pickle.load(pf)\n",
    "pf.close()"
   ]
  },
  {
   "cell_type": "code",
   "execution_count": 21,
   "id": "406e5b9e",
   "metadata": {},
   "outputs": [
    {
     "data": {
      "text/plain": [
       "(array([ 13.9       ,  20.37567474,  65.74163903,  65.09133458,\n",
       "         58.66666667, 339.66666667,   0.        ,  16.        ,\n",
       "          1.        ,   1.        ,   6.        ,   7.4       ,\n",
       "          0.        ]),\n",
       " 28.1,\n",
       " array([ 13.9       ,  20.37225053,  56.66793196,  56.10546973,\n",
       "         44.        , 344.        ,   0.        ,  16.        ,\n",
       "          1.        ,   1.        ,   6.        ,   7.4       ,\n",
       "          0.        ]))"
      ]
     },
     "execution_count": 21,
     "metadata": {},
     "output_type": "execute_result"
    }
   ],
   "source": [
    "'''\n",
    "OBS: {'outdoor_temp': 7.7, 'indoor_temp_living': 22.20591673389583, 'sky_diffuse_solar_ldf': 0.0, \n",
    "'sky_diffuse_solar_sdr': 0.0, 'site_direct_solar': 0.0, 'site_horizontal_infrared': 327.33333333333337, \n",
    "'elec_cooling': 0.0, 'hour': 4, 'day_of_week': 2, 'day': 2, 'month': 6, 'cost_rate': 2.4, 'cost': 0.0}\n",
    "'''\n",
    "OUTDOOR_TEMP = 0\n",
    "INDOOR_TEMP = 1\n",
    "DIFFUSE_SOLAR_LDF = 2\n",
    "DIFFUSE_SOLAR_SDR = 3\n",
    "SITE_DIRECT_SOLAR = 4\n",
    "SITE_HORZ_INFRARED = 5\n",
    "ELEC_COOLING = 6\n",
    "HOUR = 7\n",
    "DAY_OF_WEEK = 8\n",
    "DAY = 9\n",
    "MONTH = 10\n",
    "COST_RATE = 11\n",
    "COST = 12\n",
    "\n",
    "buf.buffer[100]"
   ]
  },
  {
   "cell_type": "code",
   "execution_count": 22,
   "id": "c33d323a",
   "metadata": {},
   "outputs": [],
   "source": [
    "buf_copy = copy.deepcopy(buf)"
   ]
  },
  {
   "cell_type": "code",
   "execution_count": 23,
   "id": "fedd97ce",
   "metadata": {},
   "outputs": [],
   "source": [
    "    def _add_10_minutes(inp):\n",
    "        year, month, day, hour, minute = inp\n",
    "\n",
    "        # Calculate the total number of minutes\n",
    "        total_minutes = (hour * 60) + minute + 10\n",
    "\n",
    "        # Calculate the new hour and minute values\n",
    "        new_hour = total_minutes // 60\n",
    "        new_minute = total_minutes % 60\n",
    "\n",
    "        # Handle hour and day overflow\n",
    "        if new_hour >= 24:\n",
    "            new_hour %= 24\n",
    "            day += 1\n",
    "\n",
    "        # Handle month and year overflow\n",
    "        if month in [1, 3, 5, 7, 8, 10, 12] and day > 31:\n",
    "            day = 1\n",
    "            month += 1\n",
    "        elif month in [4, 6, 9, 11] and day > 30:\n",
    "            day = 1\n",
    "            month += 1\n",
    "        elif month == 2:\n",
    "            if (year % 4 == 0 and year % 100 != 0) or year % 400 == 0:\n",
    "                if day > 29:\n",
    "                    day = 1\n",
    "                    month += 1\n",
    "            else:\n",
    "                if day > 28:\n",
    "                    day = 1\n",
    "                    month += 1\n",
    "\n",
    "        # Handle minute overflow and represent 0 minutes as 60\n",
    "        if new_minute == 0:\n",
    "            new_minute = 60\n",
    "            new_hour -= 1\n",
    "\n",
    "        if new_hour == -1:\n",
    "            new_hour = 23\n",
    "\n",
    "        return (year, month, day, new_hour, new_minute)\n",
    "    \n",
    "    def _get_cost_signal(day_of_week, hour, minute):\n",
    "        '''get cost signal at given time. @param: minute is not used'''\n",
    "        if day_of_week in [1, 7]:\n",
    "            # weekend pricing\n",
    "            if hour in range(0, 7) or hour in range(23, 24 + 1): # plus one is to include 7\n",
    "                #self.next_obs['cost_rate'] = 2.4\n",
    "                return 2.4\n",
    "            elif hour in range(7, 23):\n",
    "                #self.next_obs['cost_rate'] = 7.4\n",
    "                return 7.4\n",
    "        else:\n",
    "            if hour in range(0, 7) or hour in range(23, 24 + 1):\n",
    "                #self.next_obs['cost_rate'] = 2.4\n",
    "                return 2.4\n",
    "            elif hour in range(7, 16) or hour in range(21, 23):\n",
    "                #self.next_obs['cost_rate'] = 10.2\n",
    "                return 10.2\n",
    "            elif hour in range(16, 21):\n",
    "                #self.next_obs['cost_rate'] = 24.0\n",
    "                return 24.0"
   ]
  },
  {
   "cell_type": "code",
   "execution_count": 27,
   "id": "4910d6d1",
   "metadata": {},
   "outputs": [
    {
     "name": "stdout",
     "output_type": "stream",
     "text": [
      "BUF LEN: 794880\n"
     ]
    }
   ],
   "source": [
    "'''\n",
    "Delete:\n",
    "cost_rate\n",
    "cost\n",
    "\n",
    "s_{t+1} = f(s_t, a_t)\n",
    "'''\n",
    "print('BUF LEN:', len(buf_copy.buffer))\n",
    "for i in range(len(buf_copy.buffer)):\n",
    "    data = buf_copy.buffer[i]\n",
    "    s = data[0]\n",
    "    s_p = data[2]\n",
    "    np.delete(s, COST_RATE)\n",
    "    np.delete(s, COST)\n",
    "    np.delete(s_p, COST_RATE)\n",
    "    np.delete(s_p, COST)"
   ]
  }
 ],
 "metadata": {
  "kernelspec": {
   "display_name": "Python 3 (ipykernel)",
   "language": "python",
   "name": "python3"
  },
  "language_info": {
   "codemirror_mode": {
    "name": "ipython",
    "version": 3
   },
   "file_extension": ".py",
   "mimetype": "text/x-python",
   "name": "python",
   "nbconvert_exporter": "python",
   "pygments_lexer": "ipython3",
   "version": "3.10.11"
  }
 },
 "nbformat": 4,
 "nbformat_minor": 5
}
